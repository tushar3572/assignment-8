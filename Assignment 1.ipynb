{
 "cells": [
  {
   "cell_type": "code",
   "execution_count": null,
   "id": "0b4219ce-b9cd-4e0e-bdc7-d18cf6bec72d",
   "metadata": {},
   "outputs": [],
   "source": [
    "       #Answer: 1\n",
    "    \n",
    "    An exception is an event, which occurs during the execution of a program \n",
    "    that disrupts the normal flow of the program's instructions. \n",
    "    \n",
    "    #Difference between exception an dsyntax error\n",
    "    An error is an issue in a program that prevents the program from completing its task.\n",
    "    In comparison, an exception is a condition that interrupts the normal flow of the program."
   ]
  },
  {
   "cell_type": "code",
   "execution_count": null,
   "id": "3f1c2085-71d6-48f5-acf3-34b18c325571",
   "metadata": {},
   "outputs": [],
   "source": [
    "       #Answer: 2\n",
    "    \n",
    "    If the exception is not handled by an except clause,\n",
    "    the exception is re-raised after the finally clause has been executed."
   ]
  },
  {
   "cell_type": "code",
   "execution_count": 1,
   "id": "d0ca6953-4978-4e4e-bf21-3888fbd0a90c",
   "metadata": {},
   "outputs": [
    {
     "ename": "ZeroDivisionError",
     "evalue": "division by zero",
     "output_type": "error",
     "traceback": [
      "\u001b[0;31m---------------------------------------------------------------------------\u001b[0m",
      "\u001b[0;31mZeroDivisionError\u001b[0m                         Traceback (most recent call last)",
      "Cell \u001b[0;32mIn[1], line 7\u001b[0m\n\u001b[1;32m      5\u001b[0m num1 \u001b[38;5;241m=\u001b[39m \u001b[38;5;241m10\u001b[39m\n\u001b[1;32m      6\u001b[0m num2 \u001b[38;5;241m=\u001b[39m \u001b[38;5;241m0\u001b[39m\n\u001b[0;32m----> 7\u001b[0m result \u001b[38;5;241m=\u001b[39m \u001b[43mdivide\u001b[49m\u001b[43m(\u001b[49m\u001b[43mnum1\u001b[49m\u001b[43m,\u001b[49m\u001b[43m \u001b[49m\u001b[43mnum2\u001b[49m\u001b[43m)\u001b[49m\n\u001b[1;32m      8\u001b[0m \u001b[38;5;28mprint\u001b[39m(result)\n",
      "Cell \u001b[0;32mIn[1], line 2\u001b[0m, in \u001b[0;36mdivide\u001b[0;34m(a, b)\u001b[0m\n\u001b[1;32m      1\u001b[0m \u001b[38;5;28;01mdef\u001b[39;00m \u001b[38;5;21mdivide\u001b[39m(a, b):\n\u001b[0;32m----> 2\u001b[0m     \u001b[38;5;28;01mreturn\u001b[39;00m \u001b[43ma\u001b[49m\u001b[43m \u001b[49m\u001b[38;5;241;43m/\u001b[39;49m\u001b[43m \u001b[49m\u001b[43mb\u001b[49m\n",
      "\u001b[0;31mZeroDivisionError\u001b[0m: division by zero"
     ]
    }
   ],
   "source": [
    "def divide(a, b):\n",
    "    return a / b\n",
    "\n",
    "# Example 1: Exception is not handled\n",
    "num1 = 10\n",
    "num2 = 0\n",
    "result = divide(num1, num2)\n",
    "print(result)\n"
   ]
  },
  {
   "cell_type": "code",
   "execution_count": null,
   "id": "bd2263ae-ea23-43d4-8ad1-19c0d9ab1340",
   "metadata": {},
   "outputs": [],
   "source": [
    "here error will be generated.\n",
    "the program execution stops, \n",
    "and the error message indicates that there was an unhandled ZeroDivisionError."
   ]
  },
  {
   "cell_type": "code",
   "execution_count": null,
   "id": "7f1dc5d5-7b41-437a-b07e-729d8b62477e",
   "metadata": {},
   "outputs": [],
   "source": [
    "      #Answer:3\n",
    "    \n",
    "    The try and except block in Python is used to catch and handle exceptions. \n",
    "    \n",
    "Example:\n",
    "    def divide(a, b):\n",
    "    try:\n",
    "        result = a / b\n",
    "        print(\"Division result:\", result)\n",
    "    except ZeroDivisionError:\n",
    "        print(\"Error: Division by zero is not allowed.\")\n",
    "\n",
    "# Example: Handling exception with try-except\n",
    "num1 = 10\n",
    "num2 = 0\n",
    "divide(num1, num2)\n"
   ]
  },
  {
   "cell_type": "code",
   "execution_count": null,
   "id": "7b5cd1f2-776d-46c0-b842-9d44c44c2ed8",
   "metadata": {},
   "outputs": [],
   "source": [
    "     #Answer: 4\n",
    "    \n",
    "    Try: This block will test the excepted error to occur\n",
    "    Else: If there is no exception then this block will be executed\n",
    "\n",
    "Example:\n",
    "    \n",
    "def divide(x, y):\n",
    "\ttry:\n",
    "\t\t\n",
    "\t\tresult = x // y\n",
    "\texcept ZeroDivisionError:\n",
    "\t\tprint(\"Sorry ! You are dividing by zero \")\n",
    "\telse:\n",
    "\t\tprint(\"Yeah ! Your answer is :\", result)\n",
    "\n",
    "# Look at parameters and note the working of Program\n",
    "divide(3, 2)\n",
    "divide(3, 0)\n",
    "\n",
    "     Finally: Finally block always gets executed either exception is generated or not.\n",
    "    \n",
    "Example:  \n",
    "    \n",
    "def divide(x, y):\n",
    "\ttry:\n",
    "\t\tresult = x // y\n",
    "\texcept ZeroDivisionError:\n",
    "\t\tprint(\"Sorry ! You are dividing by zero \")\n",
    "\telse:\n",
    "\t\tprint(\"Yeah ! Your answer is :\", result)\n",
    "\tfinally:\n",
    "\t\t# this block is always executed\n",
    "\t\t# regardless of exception generation.\n",
    "\t\tprint('This is always executed')\n",
    "\n",
    "# Look at parameters and note the working of Program\n",
    "divide(3, 2)\n",
    "divide(3, 0)\n",
    "\n",
    "    Raise : Raise Keyword is used to raise exceptions or errors.\n",
    "    The raise keyword raises an error and stops the control flow of the program.\n",
    "    It is used to bring up the current exception in an exception handler so that \n",
    "    it can be handled further up the call stack.\n",
    "    \n",
    "Example:\n",
    "    \n",
    "    a = 5\n",
    "\n",
    "if a % 2 != 0:\n",
    "\traise Exception(\"The number shouldn't be an odd integer\")\n"
   ]
  },
  {
   "cell_type": "code",
   "execution_count": null,
   "id": "68ac67d0-0700-4265-803e-17762223930f",
   "metadata": {},
   "outputs": [],
   "source": [
    "      #Answer: 5\n",
    "    \n",
    "       We can define custom exceptions by creating a new class that ,\n",
    "        is derived from the built-in Exception class. \n",
    "        \n",
    "NEED: Built-in exceptions offer information about Python-related problems,\n",
    "       and custom exceptions will add information about project-related problems.      \n",
    "    \n",
    "Example:\n",
    "    "
   ]
  },
  {
   "cell_type": "code",
   "execution_count": 2,
   "id": "fbd9fba3-d8eb-41bf-82cc-5d14f194d723",
   "metadata": {},
   "outputs": [
    {
     "ename": "InsufficientBalanceError",
     "evalue": "Insufficient balance in account ABC123. Current balance: 1000",
     "output_type": "error",
     "traceback": [
      "\u001b[0;31m---------------------------------------------------------------------------\u001b[0m",
      "\u001b[0;31mInsufficientBalanceError\u001b[0m                  Traceback (most recent call last)",
      "Cell \u001b[0;32mIn[2], line 18\u001b[0m\n\u001b[1;32m     16\u001b[0m account_number \u001b[38;5;241m=\u001b[39m \u001b[38;5;124m\"\u001b[39m\u001b[38;5;124mABC123\u001b[39m\u001b[38;5;124m\"\u001b[39m\n\u001b[1;32m     17\u001b[0m balance \u001b[38;5;241m=\u001b[39m \u001b[38;5;241m1000\u001b[39m\n\u001b[0;32m---> 18\u001b[0m \u001b[43mwithdraw\u001b[49m\u001b[43m(\u001b[49m\u001b[43maccount_number\u001b[49m\u001b[43m,\u001b[49m\u001b[43m \u001b[49m\u001b[38;5;241;43m1500\u001b[39;49m\u001b[43m,\u001b[49m\u001b[43m \u001b[49m\u001b[43mbalance\u001b[49m\u001b[43m)\u001b[49m\n",
      "Cell \u001b[0;32mIn[2], line 11\u001b[0m, in \u001b[0;36mwithdraw\u001b[0;34m(account_number, amount, balance)\u001b[0m\n\u001b[1;32m      9\u001b[0m \u001b[38;5;28;01mdef\u001b[39;00m \u001b[38;5;21mwithdraw\u001b[39m(account_number, amount, balance):\n\u001b[1;32m     10\u001b[0m     \u001b[38;5;28;01mif\u001b[39;00m amount \u001b[38;5;241m>\u001b[39m balance:\n\u001b[0;32m---> 11\u001b[0m         \u001b[38;5;28;01mraise\u001b[39;00m InsufficientBalanceError(account_number, balance)\n\u001b[1;32m     12\u001b[0m     \u001b[38;5;28;01melse\u001b[39;00m:\n\u001b[1;32m     13\u001b[0m         \u001b[38;5;28mprint\u001b[39m(\u001b[38;5;124m\"\u001b[39m\u001b[38;5;124mWithdrawal successful.\u001b[39m\u001b[38;5;124m\"\u001b[39m)\n",
      "\u001b[0;31mInsufficientBalanceError\u001b[0m: Insufficient balance in account ABC123. Current balance: 1000"
     ]
    }
   ],
   "source": [
    "class InsufficientBalanceError(Exception):\n",
    "    def __init__(self, account_number, balance):\n",
    "        self.account_number = account_number\n",
    "        self.balance = balance\n",
    "\n",
    "    def __str__(self):\n",
    "        return f\"Insufficient balance in account {self.account_number}. Current balance: {self.balance}\"\n",
    "\n",
    "def withdraw(account_number, amount, balance):\n",
    "    if amount > balance:\n",
    "        raise InsufficientBalanceError(account_number, balance)\n",
    "    else:\n",
    "        print(\"Withdrawal successful.\")\n",
    "\n",
    "# Example: Using custom exception\n",
    "account_number = \"ABC123\"\n",
    "balance = 1000\n",
    "withdraw(account_number, 1500, balance)\n"
   ]
  },
  {
   "cell_type": "code",
   "execution_count": null,
   "id": "37fa5166-b999-4faa-a536-7ac593f15db4",
   "metadata": {},
   "outputs": [],
   "source": [
    "   #Answer: 6\n",
    "    \n",
    "    "
   ]
  }
 ],
 "metadata": {
  "kernelspec": {
   "display_name": "Python 3 (ipykernel)",
   "language": "python",
   "name": "python3"
  },
  "language_info": {
   "codemirror_mode": {
    "name": "ipython",
    "version": 3
   },
   "file_extension": ".py",
   "mimetype": "text/x-python",
   "name": "python",
   "nbconvert_exporter": "python",
   "pygments_lexer": "ipython3",
   "version": "3.10.8"
  }
 },
 "nbformat": 4,
 "nbformat_minor": 5
}
